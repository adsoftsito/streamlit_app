{
  "nbformat": 4,
  "nbformat_minor": 0,
  "metadata": {
    "colab": {
      "name": "APRENDE_M5_sincronico.ipynb",
      "provenance": [],
      "collapsed_sections": []
    },
    "kernelspec": {
      "display_name": "Python 3",
      "name": "python3"
    },
    "language_info": {
      "name": "python"
    }
  },
  "cells": [
    {
      "cell_type": "markdown",
      "metadata": {
        "id": "KW8yWdA-fmEH"
      },
      "source": [
        "**MÓDULO 5 - APLICACIÓN WEB DE CIENCIA DE DATOS**\n",
        "\n",
        "---\n"
      ]
    },
    {
      "cell_type": "markdown",
      "metadata": {
        "id": "zBjKM8nueb2b"
      },
      "source": [
        "# **TEMA 1. Plataforma Streamlit**\n",
        "\n"
      ]
    },
    {
      "cell_type": "markdown",
      "metadata": {
        "id": "7XiTfsUzeeqa"
      },
      "source": [
        "Instalación de la librería streamlit\n",
        "\n",
        "\n",
        "\n",
        "```\n",
        "!pip install streamlit\n",
        "```\n",
        "\n"
      ]
    },
    {
      "cell_type": "code",
      "metadata": {
        "colab": {
          "base_uri": "https://localhost:8080/"
        },
        "id": "d_rs6zj0emSd",
        "outputId": "8db65394-ebad-4fe0-c144-2084304f1ebe"
      },
      "source": [
        "!pip install streamlit"
      ],
      "execution_count": 1,
      "outputs": [
        {
          "output_type": "stream",
          "name": "stdout",
          "text": [
            "Requirement already satisfied: streamlit in /usr/local/lib/python3.7/dist-packages (1.0.0)\n",
            "Requirement already satisfied: numpy in /usr/local/lib/python3.7/dist-packages (from streamlit) (1.19.5)\n",
            "Requirement already satisfied: requests in /usr/local/lib/python3.7/dist-packages (from streamlit) (2.23.0)\n",
            "Requirement already satisfied: toml in /usr/local/lib/python3.7/dist-packages (from streamlit) (0.10.2)\n",
            "Requirement already satisfied: blinker in /usr/local/lib/python3.7/dist-packages (from streamlit) (1.4)\n",
            "Requirement already satisfied: altair>=3.2.0 in /usr/local/lib/python3.7/dist-packages (from streamlit) (4.1.0)\n",
            "Requirement already satisfied: tornado>=5.0 in /usr/local/lib/python3.7/dist-packages (from streamlit) (5.1.1)\n",
            "Requirement already satisfied: click<8.0,>=7.0 in /usr/local/lib/python3.7/dist-packages (from streamlit) (7.1.2)\n",
            "Requirement already satisfied: packaging in /usr/local/lib/python3.7/dist-packages (from streamlit) (21.0)\n",
            "Requirement already satisfied: pillow>=6.2.0 in /usr/local/lib/python3.7/dist-packages (from streamlit) (7.1.2)\n",
            "Requirement already satisfied: python-dateutil in /usr/local/lib/python3.7/dist-packages (from streamlit) (2.8.2)\n",
            "Requirement already satisfied: cachetools>=4.0 in /usr/local/lib/python3.7/dist-packages (from streamlit) (4.2.4)\n",
            "Requirement already satisfied: pandas>=0.21.0 in /usr/local/lib/python3.7/dist-packages (from streamlit) (1.1.5)\n",
            "Requirement already satisfied: base58 in /usr/local/lib/python3.7/dist-packages (from streamlit) (2.1.0)\n",
            "Requirement already satisfied: attrs in /usr/local/lib/python3.7/dist-packages (from streamlit) (21.2.0)\n",
            "Requirement already satisfied: watchdog in /usr/local/lib/python3.7/dist-packages (from streamlit) (2.1.6)\n",
            "Requirement already satisfied: pydeck>=0.1.dev5 in /usr/local/lib/python3.7/dist-packages (from streamlit) (0.7.0)\n",
            "Requirement already satisfied: protobuf!=3.11,>=3.6.0 in /usr/local/lib/python3.7/dist-packages (from streamlit) (3.17.3)\n",
            "Requirement already satisfied: tzlocal in /usr/local/lib/python3.7/dist-packages (from streamlit) (1.5.1)\n",
            "Requirement already satisfied: astor in /usr/local/lib/python3.7/dist-packages (from streamlit) (0.8.1)\n",
            "Requirement already satisfied: pyarrow in /usr/local/lib/python3.7/dist-packages (from streamlit) (3.0.0)\n",
            "Requirement already satisfied: validators in /usr/local/lib/python3.7/dist-packages (from streamlit) (0.18.2)\n",
            "Requirement already satisfied: gitpython!=3.1.19 in /usr/local/lib/python3.7/dist-packages (from streamlit) (3.1.24)\n",
            "Requirement already satisfied: jinja2 in /usr/local/lib/python3.7/dist-packages (from altair>=3.2.0->streamlit) (2.11.3)\n",
            "Requirement already satisfied: jsonschema in /usr/local/lib/python3.7/dist-packages (from altair>=3.2.0->streamlit) (2.6.0)\n",
            "Requirement already satisfied: entrypoints in /usr/local/lib/python3.7/dist-packages (from altair>=3.2.0->streamlit) (0.3)\n",
            "Requirement already satisfied: toolz in /usr/local/lib/python3.7/dist-packages (from altair>=3.2.0->streamlit) (0.11.1)\n",
            "Requirement already satisfied: gitdb<5,>=4.0.1 in /usr/local/lib/python3.7/dist-packages (from gitpython!=3.1.19->streamlit) (4.0.7)\n",
            "Requirement already satisfied: typing-extensions>=3.7.4.3 in /usr/local/lib/python3.7/dist-packages (from gitpython!=3.1.19->streamlit) (3.7.4.3)\n",
            "Requirement already satisfied: smmap<5,>=3.0.1 in /usr/local/lib/python3.7/dist-packages (from gitdb<5,>=4.0.1->gitpython!=3.1.19->streamlit) (4.0.0)\n",
            "Requirement already satisfied: pytz>=2017.2 in /usr/local/lib/python3.7/dist-packages (from pandas>=0.21.0->streamlit) (2018.9)\n",
            "Requirement already satisfied: six>=1.9 in /usr/local/lib/python3.7/dist-packages (from protobuf!=3.11,>=3.6.0->streamlit) (1.15.0)\n",
            "Requirement already satisfied: ipykernel>=5.1.2 in /usr/local/lib/python3.7/dist-packages (from pydeck>=0.1.dev5->streamlit) (6.4.1)\n",
            "Requirement already satisfied: ipywidgets>=7.0.0 in /usr/local/lib/python3.7/dist-packages (from pydeck>=0.1.dev5->streamlit) (7.6.5)\n",
            "Requirement already satisfied: traitlets>=4.3.2 in /usr/local/lib/python3.7/dist-packages (from pydeck>=0.1.dev5->streamlit) (5.1.0)\n",
            "Requirement already satisfied: ipython<8.0,>=7.23.1 in /usr/local/lib/python3.7/dist-packages (from ipykernel>=5.1.2->pydeck>=0.1.dev5->streamlit) (7.28.0)\n",
            "Requirement already satisfied: importlib-metadata<5 in /usr/local/lib/python3.7/dist-packages (from ipykernel>=5.1.2->pydeck>=0.1.dev5->streamlit) (4.8.1)\n",
            "Requirement already satisfied: debugpy<2.0,>=1.0.0 in /usr/local/lib/python3.7/dist-packages (from ipykernel>=5.1.2->pydeck>=0.1.dev5->streamlit) (1.0.0)\n",
            "Requirement already satisfied: jupyter-client<8.0 in /usr/local/lib/python3.7/dist-packages (from ipykernel>=5.1.2->pydeck>=0.1.dev5->streamlit) (5.3.5)\n",
            "Requirement already satisfied: argcomplete>=1.12.3 in /usr/local/lib/python3.7/dist-packages (from ipykernel>=5.1.2->pydeck>=0.1.dev5->streamlit) (1.12.3)\n",
            "Requirement already satisfied: ipython-genutils in /usr/local/lib/python3.7/dist-packages (from ipykernel>=5.1.2->pydeck>=0.1.dev5->streamlit) (0.2.0)\n",
            "Requirement already satisfied: matplotlib-inline<0.2.0,>=0.1.0 in /usr/local/lib/python3.7/dist-packages (from ipykernel>=5.1.2->pydeck>=0.1.dev5->streamlit) (0.1.3)\n",
            "Requirement already satisfied: zipp>=0.5 in /usr/local/lib/python3.7/dist-packages (from importlib-metadata<5->ipykernel>=5.1.2->pydeck>=0.1.dev5->streamlit) (3.6.0)\n",
            "Requirement already satisfied: pexpect>4.3 in /usr/local/lib/python3.7/dist-packages (from ipython<8.0,>=7.23.1->ipykernel>=5.1.2->pydeck>=0.1.dev5->streamlit) (4.8.0)\n",
            "Requirement already satisfied: decorator in /usr/local/lib/python3.7/dist-packages (from ipython<8.0,>=7.23.1->ipykernel>=5.1.2->pydeck>=0.1.dev5->streamlit) (4.4.2)\n",
            "Requirement already satisfied: setuptools>=18.5 in /usr/local/lib/python3.7/dist-packages (from ipython<8.0,>=7.23.1->ipykernel>=5.1.2->pydeck>=0.1.dev5->streamlit) (57.4.0)\n",
            "Requirement already satisfied: pygments in /usr/local/lib/python3.7/dist-packages (from ipython<8.0,>=7.23.1->ipykernel>=5.1.2->pydeck>=0.1.dev5->streamlit) (2.6.1)\n",
            "Requirement already satisfied: backcall in /usr/local/lib/python3.7/dist-packages (from ipython<8.0,>=7.23.1->ipykernel>=5.1.2->pydeck>=0.1.dev5->streamlit) (0.2.0)\n",
            "Requirement already satisfied: pickleshare in /usr/local/lib/python3.7/dist-packages (from ipython<8.0,>=7.23.1->ipykernel>=5.1.2->pydeck>=0.1.dev5->streamlit) (0.7.5)\n",
            "Requirement already satisfied: jedi>=0.16 in /usr/local/lib/python3.7/dist-packages (from ipython<8.0,>=7.23.1->ipykernel>=5.1.2->pydeck>=0.1.dev5->streamlit) (0.18.0)\n",
            "Requirement already satisfied: prompt-toolkit!=3.0.0,!=3.0.1,<3.1.0,>=2.0.0 in /usr/local/lib/python3.7/dist-packages (from ipython<8.0,>=7.23.1->ipykernel>=5.1.2->pydeck>=0.1.dev5->streamlit) (3.0.20)\n",
            "Requirement already satisfied: widgetsnbextension~=3.5.0 in /usr/local/lib/python3.7/dist-packages (from ipywidgets>=7.0.0->pydeck>=0.1.dev5->streamlit) (3.5.1)\n",
            "Requirement already satisfied: nbformat>=4.2.0 in /usr/local/lib/python3.7/dist-packages (from ipywidgets>=7.0.0->pydeck>=0.1.dev5->streamlit) (5.1.3)\n",
            "Requirement already satisfied: jupyterlab-widgets>=1.0.0 in /usr/local/lib/python3.7/dist-packages (from ipywidgets>=7.0.0->pydeck>=0.1.dev5->streamlit) (1.0.2)\n",
            "Requirement already satisfied: parso<0.9.0,>=0.8.0 in /usr/local/lib/python3.7/dist-packages (from jedi>=0.16->ipython<8.0,>=7.23.1->ipykernel>=5.1.2->pydeck>=0.1.dev5->streamlit) (0.8.2)\n",
            "Requirement already satisfied: MarkupSafe>=0.23 in /usr/local/lib/python3.7/dist-packages (from jinja2->altair>=3.2.0->streamlit) (2.0.1)\n",
            "Requirement already satisfied: pyzmq>=13 in /usr/local/lib/python3.7/dist-packages (from jupyter-client<8.0->ipykernel>=5.1.2->pydeck>=0.1.dev5->streamlit) (22.3.0)\n",
            "Requirement already satisfied: jupyter-core>=4.6.0 in /usr/local/lib/python3.7/dist-packages (from jupyter-client<8.0->ipykernel>=5.1.2->pydeck>=0.1.dev5->streamlit) (4.8.1)\n",
            "Requirement already satisfied: ptyprocess>=0.5 in /usr/local/lib/python3.7/dist-packages (from pexpect>4.3->ipython<8.0,>=7.23.1->ipykernel>=5.1.2->pydeck>=0.1.dev5->streamlit) (0.7.0)\n",
            "Requirement already satisfied: wcwidth in /usr/local/lib/python3.7/dist-packages (from prompt-toolkit!=3.0.0,!=3.0.1,<3.1.0,>=2.0.0->ipython<8.0,>=7.23.1->ipykernel>=5.1.2->pydeck>=0.1.dev5->streamlit) (0.2.5)\n",
            "Requirement already satisfied: notebook>=4.4.1 in /usr/local/lib/python3.7/dist-packages (from widgetsnbextension~=3.5.0->ipywidgets>=7.0.0->pydeck>=0.1.dev5->streamlit) (5.3.1)\n",
            "Requirement already satisfied: Send2Trash in /usr/local/lib/python3.7/dist-packages (from notebook>=4.4.1->widgetsnbextension~=3.5.0->ipywidgets>=7.0.0->pydeck>=0.1.dev5->streamlit) (1.8.0)\n",
            "Requirement already satisfied: nbconvert in /usr/local/lib/python3.7/dist-packages (from notebook>=4.4.1->widgetsnbextension~=3.5.0->ipywidgets>=7.0.0->pydeck>=0.1.dev5->streamlit) (5.6.1)\n",
            "Requirement already satisfied: terminado>=0.8.1 in /usr/local/lib/python3.7/dist-packages (from notebook>=4.4.1->widgetsnbextension~=3.5.0->ipywidgets>=7.0.0->pydeck>=0.1.dev5->streamlit) (0.12.1)\n",
            "Requirement already satisfied: defusedxml in /usr/local/lib/python3.7/dist-packages (from nbconvert->notebook>=4.4.1->widgetsnbextension~=3.5.0->ipywidgets>=7.0.0->pydeck>=0.1.dev5->streamlit) (0.7.1)\n",
            "Requirement already satisfied: mistune<2,>=0.8.1 in /usr/local/lib/python3.7/dist-packages (from nbconvert->notebook>=4.4.1->widgetsnbextension~=3.5.0->ipywidgets>=7.0.0->pydeck>=0.1.dev5->streamlit) (0.8.4)\n",
            "Requirement already satisfied: testpath in /usr/local/lib/python3.7/dist-packages (from nbconvert->notebook>=4.4.1->widgetsnbextension~=3.5.0->ipywidgets>=7.0.0->pydeck>=0.1.dev5->streamlit) (0.5.0)\n",
            "Requirement already satisfied: pandocfilters>=1.4.1 in /usr/local/lib/python3.7/dist-packages (from nbconvert->notebook>=4.4.1->widgetsnbextension~=3.5.0->ipywidgets>=7.0.0->pydeck>=0.1.dev5->streamlit) (1.5.0)\n",
            "Requirement already satisfied: bleach in /usr/local/lib/python3.7/dist-packages (from nbconvert->notebook>=4.4.1->widgetsnbextension~=3.5.0->ipywidgets>=7.0.0->pydeck>=0.1.dev5->streamlit) (4.1.0)\n",
            "Requirement already satisfied: webencodings in /usr/local/lib/python3.7/dist-packages (from bleach->nbconvert->notebook>=4.4.1->widgetsnbextension~=3.5.0->ipywidgets>=7.0.0->pydeck>=0.1.dev5->streamlit) (0.5.1)\n",
            "Requirement already satisfied: pyparsing>=2.0.2 in /usr/local/lib/python3.7/dist-packages (from packaging->streamlit) (2.4.7)\n",
            "Requirement already satisfied: idna<3,>=2.5 in /usr/local/lib/python3.7/dist-packages (from requests->streamlit) (2.10)\n",
            "Requirement already satisfied: chardet<4,>=3.0.2 in /usr/local/lib/python3.7/dist-packages (from requests->streamlit) (3.0.4)\n",
            "Requirement already satisfied: urllib3!=1.25.0,!=1.25.1,<1.26,>=1.21.1 in /usr/local/lib/python3.7/dist-packages (from requests->streamlit) (1.24.3)\n",
            "Requirement already satisfied: certifi>=2017.4.17 in /usr/local/lib/python3.7/dist-packages (from requests->streamlit) (2021.5.30)\n"
          ]
        }
      ]
    },
    {
      "cell_type": "markdown",
      "metadata": {
        "id": "Ayu7agKJepHS"
      },
      "source": [
        "Vamos a cargar una máquina virtual que tenga instalado Ngrok\n",
        "\n",
        "\n",
        "```\n",
        "!wget https://bin.equinox.io/c/4VmDzA7iaHb/ngrok-stable-linux-amd64.zip\n",
        "```\n",
        "\n",
        "\n"
      ]
    },
    {
      "cell_type": "code",
      "metadata": {
        "colab": {
          "base_uri": "https://localhost:8080/"
        },
        "id": "7q75iEO4esbN",
        "outputId": "47ae0670-eded-49e9-83ec-4cb8ceba75f0"
      },
      "source": [
        "!wget https://bin.equinox.io/c/4VmDzA7iaHb/ngrok-stable-linux-amd64.zip"
      ],
      "execution_count": 2,
      "outputs": [
        {
          "output_type": "stream",
          "name": "stdout",
          "text": [
            "--2021-10-10 20:14:07--  https://bin.equinox.io/c/4VmDzA7iaHb/ngrok-stable-linux-amd64.zip\n",
            "Resolving bin.equinox.io (bin.equinox.io)... 54.237.133.81, 54.161.241.46, 52.202.168.65, ...\n",
            "Connecting to bin.equinox.io (bin.equinox.io)|54.237.133.81|:443... connected.\n",
            "HTTP request sent, awaiting response... 200 OK\n",
            "Length: 13832437 (13M) [application/octet-stream]\n",
            "Saving to: ‘ngrok-stable-linux-amd64.zip’\n",
            "\n",
            "ngrok-stable-linux- 100%[===================>]  13.19M  17.5MB/s    in 0.8s    \n",
            "\n",
            "2021-10-10 20:14:08 (17.5 MB/s) - ‘ngrok-stable-linux-amd64.zip’ saved [13832437/13832437]\n",
            "\n"
          ]
        }
      ]
    },
    {
      "cell_type": "markdown",
      "metadata": {
        "id": "XYtxhuDGey_p"
      },
      "source": [
        "Ahora cargaremos esta máquina virtual en nuestro archivo de Google Colab\n",
        "\n",
        "\n",
        "```\n",
        "!unzip ngrok-stable-linux-amd64.zip\n",
        "```\n",
        "\n"
      ]
    },
    {
      "cell_type": "code",
      "metadata": {
        "colab": {
          "base_uri": "https://localhost:8080/"
        },
        "id": "xmflJkuqezyN",
        "outputId": "3482c32f-74f0-4052-a7e4-28953886a92a"
      },
      "source": [
        "!unzip ngrok-stable-linux-amd64.zip"
      ],
      "execution_count": 3,
      "outputs": [
        {
          "output_type": "stream",
          "name": "stdout",
          "text": [
            "Archive:  ngrok-stable-linux-amd64.zip\n",
            "  inflating: ngrok                   \n"
          ]
        }
      ]
    },
    {
      "cell_type": "markdown",
      "metadata": {
        "id": "BPYfCgdie3qn"
      },
      "source": [
        "Posteriormente le indicaremos a Ngrok que estará utilizando el puerto 8501 para visualizar nuestra aplicación\n",
        "\n",
        "```\n",
        "get_ipython().system_raw('./ngrok http 8501 &')\n",
        "```\n"
      ]
    },
    {
      "cell_type": "code",
      "metadata": {
        "id": "Y369lh1ne8c3"
      },
      "source": [
        "get_ipython().system_raw('./ngrok http 8501 &')"
      ],
      "execution_count": 9,
      "outputs": []
    },
    {
      "cell_type": "markdown",
      "metadata": {
        "id": "sSAwzJMje_nZ"
      },
      "source": [
        "Una vez inicializado el puerto, ahora vamos a crear el tunel para que pueda generarse un enlace que nos permita visualizar nuestra aplicación\n",
        "\n",
        "```\n",
        "!curl -s http://localhost:4040/api/tunnels | python3 -c \\\n",
        "    'import sys, json; print(\"Execute the next cell and the go to the following URL: \" +json.load(sys.stdin)[\"tunnels\"][0][\"public_url\"])'\n",
        "```\n",
        "\n",
        "  "
      ]
    },
    {
      "cell_type": "code",
      "metadata": {
        "colab": {
          "base_uri": "https://localhost:8080/"
        },
        "id": "9YAaMb4JfEvE",
        "outputId": "b11404f9-6ea1-4c3b-fdad-1ee3a5b74542"
      },
      "source": [
        "!curl -s http://localhost:4040/api/tunnels | python3 -c \\\n",
        "    'import sys, json; print(\"Execute the next cell and the go to the following URL: \" +json.load(sys.stdin)[\"tunnels\"][0][\"public_url\"])'"
      ],
      "execution_count": 10,
      "outputs": [
        {
          "output_type": "stream",
          "name": "stdout",
          "text": [
            "Execute the next cell and the go to the following URL: https://c4ad-34-125-12-117.ngrok.io\n"
          ]
        }
      ]
    },
    {
      "cell_type": "markdown",
      "metadata": {
        "id": "VL95KORBfKH4"
      },
      "source": [
        "Una vez que ejecutaron la instrucción anterior, verán que aparece un URL que es el que vamos a dar clic para visualizar nuestra aplicación, pero primero tenemos que ejecutar nuestra aplicación"
      ]
    },
    {
      "cell_type": "markdown",
      "metadata": {
        "id": "y1gqJMVt6eXe"
      },
      "source": [
        "Ahora creamos nuestra primera aplicacion, para guardar el archivo nos aseguramos de incluir la sentencia: *%%writefile  programa.py*\n",
        "\n",
        "\n",
        "```\n",
        "%%writefile primero.py\n",
        "import streamlit as st\n",
        "\n",
        "st.title(\"Mi Primera App con Streamlit\")\n",
        "st.header(\"Información sobre el Conjunto de Datos\")\n",
        "\n",
        "st.write(\"\"\"\n",
        "Este es un simple ejemplo de una app para predecir\n",
        "¡Esta app predice mis datos!\n",
        "\"\"\")\n",
        "\n",
        "```\n",
        "\n"
      ]
    },
    {
      "cell_type": "code",
      "metadata": {
        "colab": {
          "base_uri": "https://localhost:8080/"
        },
        "id": "X0G7sSEdfOB5",
        "outputId": "f3bc6bbd-e8c2-49c1-893d-b1cb0184efb0"
      },
      "source": [
        "%%writefile primero.py\n",
        "import streamlit as st\n",
        "\n",
        "st.title(\"Mi Primera App\")\n",
        "st.header(\"Información sobre el Conjunto de Datos\")\n",
        "\n",
        "st.write(\"\"\"\n",
        "Este es un simple ejemplo de una app para predecir\n",
        "\n",
        "¡Esta app predice mis datos!\n",
        "\n",
        "\"\"\")"
      ],
      "execution_count": 8,
      "outputs": [
        {
          "output_type": "stream",
          "name": "stdout",
          "text": [
            "Overwriting primero.py\n"
          ]
        }
      ]
    },
    {
      "cell_type": "markdown",
      "metadata": {
        "id": "95mqsUJyfOya"
      },
      "source": [
        "Una vez cargado y ejecutado el archivo ahora vamos a proceder a ejecutarlo con el comando streamlit para que se visualice el contenido del mismo.\n",
        "\n",
        "```\n",
        "!streamlit run /content/primero.py\n",
        "```\n"
      ]
    },
    {
      "cell_type": "code",
      "metadata": {
        "colab": {
          "base_uri": "https://localhost:8080/"
        },
        "id": "cji2vdZRfSem",
        "outputId": "8f5dedf3-cf46-48dc-e6f4-e86932bea711"
      },
      "source": [
        "!streamlit run /content/primero.py"
      ],
      "execution_count": 11,
      "outputs": [
        {
          "output_type": "stream",
          "name": "stdout",
          "text": [
            "\u001b[0m\n",
            "\u001b[34m\u001b[1m  You can now view your Streamlit app in your browser.\u001b[0m\n",
            "\u001b[0m\n",
            "\u001b[34m  Network URL: \u001b[0m\u001b[1mhttp://172.28.0.2:8501\u001b[0m\n",
            "\u001b[34m  External URL: \u001b[0m\u001b[1mhttp://34.125.12.117:8501\u001b[0m\n",
            "\u001b[0m\n",
            "\u001b[34m  Stopping...\u001b[0m\n"
          ]
        }
      ]
    },
    {
      "cell_type": "markdown",
      "metadata": {
        "id": "wTHwMLY561P7"
      },
      "source": [
        ""
      ]
    },
    {
      "cell_type": "markdown",
      "metadata": {
        "id": "bVzq39XXfnVu"
      },
      "source": [
        "# **TEMA 2. Acceso a datos**"
      ]
    },
    {
      "cell_type": "markdown",
      "metadata": {
        "id": "ezdXoZrrEQxz"
      },
      "source": [
        "\n",
        "**Tema 2.1: Streamlit con dataframes de Pandas**\n",
        "\n",
        "\n"
      ]
    },
    {
      "cell_type": "markdown",
      "metadata": {
        "id": "5mIcPOMcgNog"
      },
      "source": [
        "Indicaremos a Ngrok que estará utilizando el puerto 8501 para visualizar nuestra aplicación\n",
        "\n",
        "```\n",
        "get_ipython().system_raw('./ngrok http 8501 &')\n",
        "```"
      ]
    },
    {
      "cell_type": "code",
      "metadata": {
        "id": "HIgtgs59gUSB"
      },
      "source": [
        "get_ipython().system_raw('./ngrok http 8501 &')"
      ],
      "execution_count": 14,
      "outputs": []
    },
    {
      "cell_type": "markdown",
      "metadata": {
        "id": "U-6Ybk71gZEC"
      },
      "source": [
        "Una vez inicializado el puerto, ahora vamos a crear el tunel para que pueda generarse un enlace que nos permita visualizar nuestra aplicación\n",
        "\n",
        "```\n",
        "!curl -s http://localhost:4040/api/tunnels | python3 -c \\\n",
        "    'import sys, json; print(\"Execute the next cell and the go to the following URL: \" +json.load(sys.stdin)[\"tunnels\"][0][\"public_url\"])'\n",
        "```"
      ]
    },
    {
      "cell_type": "code",
      "metadata": {
        "colab": {
          "base_uri": "https://localhost:8080/"
        },
        "id": "eEDpF_PpgeyN",
        "outputId": "f430a6ea-97d4-42dc-8ea4-80e95af4dbc0"
      },
      "source": [
        "!curl -s http://localhost:4040/api/tunnels | python3 -c \\\n",
        "    'import sys, json; print(\"Execute the next cell and the go to the following URL: \" +json.load(sys.stdin)[\"tunnels\"][0][\"public_url\"])'"
      ],
      "execution_count": 15,
      "outputs": [
        {
          "output_type": "stream",
          "name": "stdout",
          "text": [
            "Execute the next cell and the go to the following URL: https://13f1-34-125-12-117.ngrok.io\n"
          ]
        }
      ]
    },
    {
      "cell_type": "markdown",
      "metadata": {
        "id": "MV9PA4vXFIae"
      },
      "source": [
        "Cargamos nuestro **dataset.csv** a nuestro entorno de trabajo"
      ]
    },
    {
      "cell_type": "markdown",
      "metadata": {
        "id": "J25iG3QMgjMU"
      },
      "source": [
        "Una vez que ejecutaron la instrucción anterior, verán que aparece un URL que es \n",
        "el que vamos a dar clic para visualizar nuestra aplicación, pero primero tenemos que ejecutar nuestra aplicación.\n",
        "\n",
        "Creamos nuestra segunda aplicacion de Streamlit con Pandas:\n",
        "\n",
        "```\n",
        "%%writefile segundo.py\n",
        "import pandas as pd\n",
        "import streamlit as st\n",
        "\n",
        "names_link = '/content/dataset.csv'\n",
        "names_data = pd.read_csv(names_link)\n",
        "\n",
        "st.title(\"Streamlit and Pandas\")\n",
        "st.dataframe(names_data)\n",
        "```\n",
        "\n",
        "\n"
      ]
    },
    {
      "cell_type": "code",
      "metadata": {
        "colab": {
          "base_uri": "https://localhost:8080/"
        },
        "id": "XnQQjssKgwcc",
        "outputId": "670f2f56-afd3-499f-995d-d0028f84ff12"
      },
      "source": [
        "%%writefile segundo.py\n",
        "import pandas as pd\n",
        "import streamlit as st\n",
        "\n",
        "names_link = '/content/dataset.csv'\n",
        "names_data = pd.read_csv(names_link)\n",
        "\n",
        "st.title(\"Streamlit and Pandas\")\n",
        "st.dataframe(names_data)\n",
        "\n"
      ],
      "execution_count": 16,
      "outputs": [
        {
          "output_type": "stream",
          "name": "stdout",
          "text": [
            "Writing segundo.py\n"
          ]
        }
      ]
    },
    {
      "cell_type": "markdown",
      "metadata": {
        "id": "QAvnzUfggwxV"
      },
      "source": [
        "Una vez cargado y ejecutado el archivo ahora vamos a proceder a ejecutarlo con el comando streamlit para que se visualice el contenido del mismo."
      ]
    },
    {
      "cell_type": "code",
      "metadata": {
        "colab": {
          "base_uri": "https://localhost:8080/"
        },
        "id": "MDO97_Edg1J4",
        "outputId": "33c35e6d-e5d5-4ca5-c4e8-efb05860c565"
      },
      "source": [
        "!streamlit run /content/segundo.py"
      ],
      "execution_count": 17,
      "outputs": [
        {
          "output_type": "stream",
          "name": "stdout",
          "text": [
            "\u001b[0m\n",
            "\u001b[34m\u001b[1m  You can now view your Streamlit app in your browser.\u001b[0m\n",
            "\u001b[0m\n",
            "\u001b[34m  Network URL: \u001b[0m\u001b[1mhttp://172.28.0.2:8501\u001b[0m\n",
            "\u001b[34m  External URL: \u001b[0m\u001b[1mhttp://34.125.12.117:8501\u001b[0m\n",
            "\u001b[0m\n",
            "\u001b[34m  Stopping...\u001b[0m\n"
          ]
        }
      ]
    },
    {
      "cell_type": "markdown",
      "metadata": {
        "id": "ZBqwbw4zMzRe"
      },
      "source": [
        "**Tema 2.2 : Estatuto caching**"
      ]
    },
    {
      "cell_type": "markdown",
      "metadata": {
        "id": "G62hGFZDNbPa"
      },
      "source": [
        "Indicaremos a Ngrok que estará utilizando el puerto 8501 para visualizar nuestra aplicación\n",
        "\n",
        "```\n",
        "get_ipython().system_raw('./ngrok http 8501 &')\n",
        "```"
      ]
    },
    {
      "cell_type": "code",
      "metadata": {
        "id": "jjw21OlHPMzu"
      },
      "source": [
        "get_ipython().system_raw('./ngrok http 8501 &')\n"
      ],
      "execution_count": 23,
      "outputs": []
    },
    {
      "cell_type": "markdown",
      "metadata": {
        "id": "jm2Fv668Nkq_"
      },
      "source": [
        "Una vez inicializado el puerto, ahora vamos a crear el tunel para que pueda generarse un enlace que nos permita visualizar nuestra aplicación\n",
        "\n",
        "```\n",
        "!curl -s http://localhost:4040/api/tunnels | python3 -c \\\n",
        "    'import sys, json; print(\"Execute the next cell and the go to the following URL: \" +json.load(sys.stdin)[\"tunnels\"][0][\"public_url\"])'\n",
        "```"
      ]
    },
    {
      "cell_type": "code",
      "metadata": {
        "colab": {
          "base_uri": "https://localhost:8080/"
        },
        "id": "tFDwCnM3PVev",
        "outputId": "4e920106-de0e-4709-93bb-987a9099e4b4"
      },
      "source": [
        "!curl -s http://localhost:4040/api/tunnels | python3 -c \\\n",
        "    'import sys, json; print(\"Execute the next cell and the go to the following URL: \" +json.load(sys.stdin)[\"tunnels\"][0][\"public_url\"])'"
      ],
      "execution_count": 24,
      "outputs": [
        {
          "output_type": "stream",
          "name": "stdout",
          "text": [
            "Execute the next cell and the go to the following URL: http://f9ec-34-125-12-117.ngrok.io\n"
          ]
        }
      ]
    },
    {
      "cell_type": "markdown",
      "metadata": {
        "id": "RXlhvOC7NykD"
      },
      "source": [
        "Creamos nuestra tercera aplicacion de Streamlit con Pandas y el estatuto cache\n",
        "\n",
        "```\n",
        "%%writefile cache.py\n",
        "import streamlit as st\n",
        "import pandas as pd\n",
        "\n",
        "st.title('Streamlit con atributo cache')\n",
        "\n",
        "DATA_URL = ('/content/dataset.csv')\n",
        "\n",
        "@st.cache\n",
        "def load_data(nrows):\n",
        "    data = pd.read_csv(DATA_URL, nrows=nrows)\n",
        "    return data\n",
        "\n",
        "data_load_state = st.text('Loading data...')\n",
        "data = load_data(1000)\n",
        "data_load_state.text(\"Done! (using st.cache)\")\n",
        "\n",
        "st.dataframe(data)\n",
        "```\n"
      ]
    },
    {
      "cell_type": "code",
      "metadata": {
        "colab": {
          "base_uri": "https://localhost:8080/"
        },
        "id": "-1mpTt2S9Gkz",
        "outputId": "65a7aa86-2412-4caa-b17c-82faf5ee551d"
      },
      "source": [
        "%%writefile cache.py\n",
        "import streamlit as st\n",
        "import pandas as pd\n",
        "\n",
        "st.title('Streamlit con atributo cache')\n",
        "\n",
        "DATA_URL = ('/content/dataset.csv')\n",
        "\n",
        "@st.cache\n",
        "def load_data(nrows):\n",
        "    data = pd.read_csv(DATA_URL, nrows=nrows)\n",
        "    return data\n",
        "\n",
        "data_load_state = st.text('Loading data...')\n",
        "data = load_data(1000)\n",
        "data_load_state.text(\"Done! (using st.cache)\")\n",
        "\n",
        "st.dataframe(data)"
      ],
      "execution_count": 25,
      "outputs": [
        {
          "output_type": "stream",
          "name": "stdout",
          "text": [
            "Overwriting cache.py\n"
          ]
        }
      ]
    },
    {
      "cell_type": "code",
      "metadata": {
        "id": "bOJCrkx7-uDJ",
        "colab": {
          "base_uri": "https://localhost:8080/"
        },
        "outputId": "5d77bab7-183a-4870-cc70-110cb5c46a3d"
      },
      "source": [
        "!streamlit run /content/cache.py"
      ],
      "execution_count": 26,
      "outputs": [
        {
          "output_type": "stream",
          "name": "stdout",
          "text": [
            "\u001b[0m\n",
            "\u001b[34m\u001b[1m  You can now view your Streamlit app in your browser.\u001b[0m\n",
            "\u001b[0m\n",
            "\u001b[34m  Network URL: \u001b[0m\u001b[1mhttp://172.28.0.2:8501\u001b[0m\n",
            "\u001b[34m  External URL: \u001b[0m\u001b[1mhttp://34.125.12.117:8501\u001b[0m\n",
            "\u001b[0m\n",
            "\u001b[34m  Stopping...\u001b[0m\n"
          ]
        }
      ]
    },
    {
      "cell_type": "markdown",
      "metadata": {
        "id": "bxQLmOEQzDwf"
      },
      "source": [
        "# **TEMA 3. Controles basicos**\n",
        "\n"
      ]
    },
    {
      "cell_type": "markdown",
      "metadata": {
        "id": "dfZCigvFwlKN"
      },
      "source": [
        "**Tema 3.1 : Control text_input()**\n",
        "\n",
        "\n"
      ]
    },
    {
      "cell_type": "markdown",
      "metadata": {
        "id": "9reiQ37CzZ8s"
      },
      "source": [
        "Indicaremos a Ngrok que estará utilizando el puerto 8501 para visualizar nuestra aplicación\n",
        "\n",
        "\n",
        "```\n",
        "get_ipython().system_raw('./ngrok http 8501 &')\n",
        "```\n",
        "\n"
      ]
    },
    {
      "cell_type": "code",
      "metadata": {
        "id": "hnmE2OM9pSUl"
      },
      "source": [
        "get_ipython().system_raw('./ngrok http 8501 &')"
      ],
      "execution_count": 53,
      "outputs": []
    },
    {
      "cell_type": "markdown",
      "metadata": {
        "id": "OP-ALK_Rzecf"
      },
      "source": [
        "Una vez inicializado el puerto, ahora vamos a crear el tunel para que pueda generarse un enlace que nos permita visualizar nuestra aplicación\n",
        "\n",
        "\n",
        "```\n",
        "!curl -s http://localhost:4040/api/tunnels | python3 -c \\\n",
        "    'import sys, json; print(\"Execute the next cell and the go to the following URL: \" +json.load(sys.stdin)[\"tunnels\"][0][\"public_url\"])'\n",
        "```\n",
        "\n"
      ]
    },
    {
      "cell_type": "code",
      "metadata": {
        "colab": {
          "base_uri": "https://localhost:8080/"
        },
        "id": "avVTr1XkpUdO",
        "outputId": "1257c2da-bfec-47c8-ee24-fbb2e19b498a"
      },
      "source": [
        "!curl -s http://localhost:4040/api/tunnels | python3 -c \\\n",
        "    'import sys, json; print(\"Execute the next cell and the go to the following URL: \" +json.load(sys.stdin)[\"tunnels\"][0][\"public_url\"])'"
      ],
      "execution_count": 54,
      "outputs": [
        {
          "output_type": "stream",
          "name": "stdout",
          "text": [
            "Execute the next cell and the go to the following URL: https://3d95-34-125-12-117.ngrok.io\n"
          ]
        }
      ]
    },
    {
      "cell_type": "markdown",
      "metadata": {
        "id": "oIBikGsBzmJ_"
      },
      "source": [
        "Una vez que ejecutaron la instrucción anterior, verán que aparece un URL que es \n",
        "\n",
        "---\n",
        "\n",
        "el que vamos a dar clic para visualizar nuestra aplicación, pero primero tenemos que ejecutar nuestra aplicación"
      ]
    },
    {
      "cell_type": "code",
      "metadata": {
        "colab": {
          "base_uri": "https://localhost:8080/"
        },
        "id": "V4roO9VQpYTM",
        "outputId": "2627850d-f938-4f4d-afcb-489039f9012a"
      },
      "source": [
        "%%writefile searchnames.py\n",
        "import streamlit as st\n",
        "import pandas as pd\n",
        "\n",
        "st.title('Streamlit - Search names')\n",
        "\n",
        "DATA_URL = ('/content/dataset.csv')\n",
        "\n",
        "@st.cache\n",
        "def load_data_byname(name):\n",
        "    data = pd.read_csv(DATA_URL)\n",
        "    filtered_data_byname = data[data['name'].str.contains(name)]\n",
        "\n",
        "    return filtered_data_byname\n",
        "\n",
        "myname = st.text_input('Name :')\n",
        "if (myname):\n",
        "   filterbyname = load_data_byname(myname)\n",
        "   count_row = filterbyname.shape[0]  # Gives number of rows\n",
        "   st.write(f\"Total names : {count_row}\")\n",
        "\n",
        "   st.dataframe(filterbyname)"
      ],
      "execution_count": 55,
      "outputs": [
        {
          "output_type": "stream",
          "name": "stdout",
          "text": [
            "Overwriting searchnames.py\n"
          ]
        }
      ]
    },
    {
      "cell_type": "markdown",
      "metadata": {
        "id": "86RJy0SazrAb"
      },
      "source": [
        "Una vez cargado y ejecutado el archivo ahora vamos a proceder a ejecutarlo con el comando streamlit para que se visualice el contenido del mismo."
      ]
    },
    {
      "cell_type": "code",
      "metadata": {
        "colab": {
          "base_uri": "https://localhost:8080/"
        },
        "id": "n4F8bKfApbg7",
        "outputId": "0a96269e-4c84-4235-e4fc-aeac3a6cf204"
      },
      "source": [
        "!streamlit run /content/searchnames.py"
      ],
      "execution_count": 56,
      "outputs": [
        {
          "output_type": "stream",
          "name": "stdout",
          "text": [
            "\u001b[0m\n",
            "\u001b[34m\u001b[1m  You can now view your Streamlit app in your browser.\u001b[0m\n",
            "\u001b[0m\n",
            "\u001b[34m  Network URL: \u001b[0m\u001b[1mhttp://172.28.0.2:8501\u001b[0m\n",
            "\u001b[34m  External URL: \u001b[0m\u001b[1mhttp://34.125.12.117:8501\u001b[0m\n",
            "\u001b[0m\n",
            "\u001b[34m  Stopping...\u001b[0m\n"
          ]
        }
      ]
    },
    {
      "cell_type": "markdown",
      "metadata": {
        "id": "SU0hoYvs4SSj"
      },
      "source": [
        "**Tema 3.2: Control button()**\n"
      ]
    },
    {
      "cell_type": "markdown",
      "metadata": {
        "id": "VQa7AMqz4phx"
      },
      "source": [
        "Indicaremos a Ngrok que estará utilizando el puerto 8501 para visualizar nuestra aplicación\n",
        "\n",
        "\n",
        "```\n",
        "get_ipython().system_raw('./ngrok http 8501 &')\n",
        "```\n",
        "\n"
      ]
    },
    {
      "cell_type": "code",
      "metadata": {
        "id": "oG-NL2fF6Zn0"
      },
      "source": [
        "get_ipython().system_raw('./ngrok http 8501 &')\n"
      ],
      "execution_count": 66,
      "outputs": []
    },
    {
      "cell_type": "markdown",
      "metadata": {
        "id": "qoSzl1Bc4y8E"
      },
      "source": [
        "Una vez inicializado el puerto, ahora vamos a crear el tunel para que pueda generarse un enlace que nos permita visualizar nuestra aplicación\n",
        "\n",
        "\n",
        "```\n",
        "!curl -s http://localhost:4040/api/tunnels | python3 -c \\\n",
        "    'import sys, json; print(\"Execute the next cell and the go to the following URL: \" +json.load(sys.stdin)[\"tunnels\"][0][\"public_url\"])'\n",
        "```\n",
        "\n"
      ]
    },
    {
      "cell_type": "code",
      "metadata": {
        "colab": {
          "base_uri": "https://localhost:8080/"
        },
        "id": "8f3tzbUy6cEu",
        "outputId": "5b6d9911-66e3-4272-a82b-6631c89876a3"
      },
      "source": [
        "!curl -s http://localhost:4040/api/tunnels | python3 -c \\\n",
        "    'import sys, json; print(\"Execute the next cell and the go to the following URL: \" +json.load(sys.stdin)[\"tunnels\"][0][\"public_url\"])'"
      ],
      "execution_count": 67,
      "outputs": [
        {
          "output_type": "stream",
          "name": "stdout",
          "text": [
            "Execute the next cell and the go to the following URL: http://6199-34-125-12-117.ngrok.io\n"
          ]
        }
      ]
    },
    {
      "cell_type": "markdown",
      "metadata": {
        "id": "v_Rf_RgI48dy"
      },
      "source": [
        "Una vez que ejecutaron la instrucción anterior, verán que aparece un URL que es \n",
        "el que vamos a dar clic para visualizar nuestra aplicación, pero primero tenemos que ejecutar nuestra aplicación"
      ]
    },
    {
      "cell_type": "code",
      "metadata": {
        "colab": {
          "base_uri": "https://localhost:8080/"
        },
        "id": "tM9ywcmg4mmV",
        "outputId": "b41df1f9-9620-444b-83e5-b4f581775615"
      },
      "source": [
        "%%writefile range.py\n",
        "import streamlit as st\n",
        "import pandas as pd\n",
        "\n",
        "st.title('Streamlit - Search ranges')\n",
        "\n",
        "DATA_URL = ('/content/dataset.csv')\n",
        "\n",
        "@st.cache\n",
        "def load_data_byrange(startid, endid):\n",
        "    data = pd.read_csv(DATA_URL)\n",
        "    filtered_data_byrange = data[ (data['index'] >= startid) & (data['index'] <= endid) ]\n",
        "\n",
        "    return filtered_data_byrange\n",
        "\n",
        "startid = st.text_input('Start index :')\n",
        "endid = st.text_input('End index  :')\n",
        "btnRange = st.button('Search by range')\n",
        "\n",
        "if (btnRange):\n",
        "   filterbyrange = load_data_byrange(int(startid), int(endid))\n",
        "   count_row = filterbyrange.shape[0]  # Gives number of rows\n",
        "   st.write(f\"Total items : {count_row}\")\n",
        "\n",
        "   st.dataframe(filterbyrange)"
      ],
      "execution_count": 68,
      "outputs": [
        {
          "output_type": "stream",
          "name": "stdout",
          "text": [
            "Overwriting range.py\n"
          ]
        }
      ]
    },
    {
      "cell_type": "markdown",
      "metadata": {
        "id": "gZy2Zeg36tTJ"
      },
      "source": [
        "Una vez cargado y ejecutado el archivo ahora vamos a proceder a ejecutarlo con el comando streamlit para que se visualice el contenido del mismo."
      ]
    },
    {
      "cell_type": "code",
      "metadata": {
        "colab": {
          "base_uri": "https://localhost:8080/"
        },
        "id": "CLjXRURB6qdg",
        "outputId": "f2f6588f-523a-419c-908d-11a3e47413d9"
      },
      "source": [
        "!streamlit run /content/range.py"
      ],
      "execution_count": 69,
      "outputs": [
        {
          "output_type": "stream",
          "name": "stdout",
          "text": [
            "\u001b[0m\n",
            "\u001b[34m\u001b[1m  You can now view your Streamlit app in your browser.\u001b[0m\n",
            "\u001b[0m\n",
            "\u001b[34m  Network URL: \u001b[0m\u001b[1mhttp://172.28.0.2:8501\u001b[0m\n",
            "\u001b[34m  External URL: \u001b[0m\u001b[1mhttp://34.125.12.117:8501\u001b[0m\n",
            "\u001b[0m\n",
            "2021-10-11 01:19:44.412 NumExpr defaulting to 2 threads.\n",
            "\u001b[34m  Stopping...\u001b[0m\n"
          ]
        }
      ]
    },
    {
      "cell_type": "markdown",
      "metadata": {
        "id": "UsADCr9m-Fkg"
      },
      "source": [
        "**Tema 3.3: Control Selectedbox**"
      ]
    },
    {
      "cell_type": "markdown",
      "metadata": {
        "id": "vdOXrAW3-O4f"
      },
      "source": [
        "Indicaremos a Ngrok que estará utilizando el puerto 8501 para visualizar nuestra aplicación\n",
        "\n",
        "\n",
        "```\n",
        "get_ipython().system_raw('./ngrok http 8501 &')\n",
        "```\n",
        "\n"
      ]
    },
    {
      "cell_type": "code",
      "metadata": {
        "id": "6xZkXBAgAiC1"
      },
      "source": [
        "get_ipython().system_raw('./ngrok http 8501 &')\n"
      ],
      "execution_count": 83,
      "outputs": []
    },
    {
      "cell_type": "markdown",
      "metadata": {
        "id": "_sgBQfk--YzN"
      },
      "source": [
        "Una vez inicializado el puerto, ahora vamos a crear el tunel para que pueda generarse un enlace que nos permita visualizar nuestra aplicación\n",
        "\n",
        "\n",
        "```\n",
        "!curl -s http://localhost:4040/api/tunnels | python3 -c \\\n",
        "    'import sys, json; print(\"Execute the next cell and the go to the following URL: \" +json.load(sys.stdin)[\"tunnels\"][0][\"public_url\"])'\n",
        "```\n",
        "\n"
      ]
    },
    {
      "cell_type": "code",
      "metadata": {
        "colab": {
          "base_uri": "https://localhost:8080/"
        },
        "id": "cCY4JBibAk3Q",
        "outputId": "7828f5c3-62b0-465b-df19-03d5a7c96c78"
      },
      "source": [
        "!curl -s http://localhost:4040/api/tunnels | python3 -c \\\n",
        "    'import sys, json; print(\"Execute the next cell and the go to the following URL: \" +json.load(sys.stdin)[\"tunnels\"][0][\"public_url\"])'"
      ],
      "execution_count": 84,
      "outputs": [
        {
          "output_type": "stream",
          "name": "stdout",
          "text": [
            "Execute the next cell and the go to the following URL: http://780a-34-125-12-117.ngrok.io\n"
          ]
        }
      ]
    },
    {
      "cell_type": "markdown",
      "metadata": {
        "id": "pX7KcvO4-fhO"
      },
      "source": [
        "Una vez que ejecutaron la instrucción anterior, verán que aparece un URL que es \n",
        "el que vamos a dar clic para visualizar nuestra aplicación, pero primero tenemos que ejecutar nuestra aplicación"
      ]
    },
    {
      "cell_type": "code",
      "metadata": {
        "colab": {
          "base_uri": "https://localhost:8080/"
        },
        "id": "cwq0Mo2o-heI",
        "outputId": "d0599b83-618b-439c-9b88-c3172aea451f"
      },
      "source": [
        "%%writefile filterbysex.py\n",
        "import streamlit as st\n",
        "import pandas as pd\n",
        "\n",
        "st.title('Streamlit - Filter by sex')\n",
        "\n",
        "DATA_URL = ('/content/dataset.csv')\n",
        "\n",
        "\n",
        "@st.cache\n",
        "def load_data():\n",
        "    data = pd.read_csv(DATA_URL)\n",
        "    return data\n",
        "\n",
        "@st.cache\n",
        "def load_data_bysex(sex):\n",
        "    data = pd.read_csv(DATA_URL)\n",
        "    filtered_data_bysex = data[data['sex'] == sex]\n",
        "\n",
        "    return filtered_data_bysex\n",
        "\n",
        "\n",
        "data = load_data()\n",
        "selected_sex = st.selectbox(\"Select Sex\", data['sex'].unique())\n",
        "btnFilterbySex = st.button('Filter by sex')\n",
        "\n",
        "if (btnFilterbySex):\n",
        "   filterbysex = load_data_bysex(selected_sex)\n",
        "   count_row = filterbysex.shape[0]  # Gives number of rows\n",
        "   st.write(f\"Total items : {count_row}\")\n",
        "\n",
        "   st.dataframe(filterbysex)"
      ],
      "execution_count": 85,
      "outputs": [
        {
          "output_type": "stream",
          "name": "stdout",
          "text": [
            "Overwriting filterbysex.py\n"
          ]
        }
      ]
    },
    {
      "cell_type": "code",
      "metadata": {
        "colab": {
          "base_uri": "https://localhost:8080/"
        },
        "id": "F4nKgvMf-kuN",
        "outputId": "a558b26b-1e01-45d4-bda4-5d34285d315f"
      },
      "source": [
        "!streamlit run /content/filterbysex.py"
      ],
      "execution_count": 86,
      "outputs": [
        {
          "output_type": "stream",
          "name": "stdout",
          "text": [
            "\u001b[0m\n",
            "\u001b[34m\u001b[1m  You can now view your Streamlit app in your browser.\u001b[0m\n",
            "\u001b[0m\n",
            "\u001b[34m  Network URL: \u001b[0m\u001b[1mhttp://172.28.0.2:8501\u001b[0m\n",
            "\u001b[34m  External URL: \u001b[0m\u001b[1mhttp://34.125.12.117:8501\u001b[0m\n",
            "\u001b[0m\n",
            "\u001b[34m  Stopping...\u001b[0m\n",
            "\u001b[34m  Stopping...\u001b[0m\n"
          ]
        }
      ]
    }
  ]
}