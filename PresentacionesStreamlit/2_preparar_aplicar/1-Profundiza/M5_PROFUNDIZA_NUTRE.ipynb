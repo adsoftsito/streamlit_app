{
  "nbformat": 4,
  "nbformat_minor": 0,
  "metadata": {
    "colab": {
      "name": "M5_PROFUNDIZA_NUTRE.ipynb",
      "provenance": [],
      "collapsed_sections": []
    },
    "kernelspec": {
      "name": "python3",
      "display_name": "Python 3"
    },
    "language_info": {
      "name": "python"
    }
  },
  "cells": [
    {
      "cell_type": "markdown",
      "metadata": {
        "id": "bxQLmOEQzDwf"
      },
      "source": [
        "**TEMA 1**"
      ]
    },
    {
      "cell_type": "markdown",
      "metadata": {
        "id": "HGdVV79TzIPc"
      },
      "source": [
        "\n",
        "\n",
        "Instalación de la librería streamlit"
      ]
    },
    {
      "cell_type": "code",
      "metadata": {
        "id": "sRbGg__4pEcP",
        "colab": {
          "base_uri": "https://localhost:8080/"
        },
        "outputId": "9458b7c7-8412-42c0-d32c-c81422940f6e"
      },
      "source": [
        "!pip install streamlit"
      ],
      "execution_count": 1,
      "outputs": [
        {
          "output_type": "stream",
          "name": "stdout",
          "text": [
            "Requirement already satisfied: streamlit in /usr/local/lib/python3.7/dist-packages (1.4.0)\n",
            "Requirement already satisfied: cachetools>=4.0 in /usr/local/lib/python3.7/dist-packages (from streamlit) (4.2.4)\n",
            "Requirement already satisfied: blinker in /usr/local/lib/python3.7/dist-packages (from streamlit) (1.4)\n",
            "Requirement already satisfied: pillow>=6.2.0 in /usr/local/lib/python3.7/dist-packages (from streamlit) (7.1.2)\n",
            "Requirement already satisfied: toml in /usr/local/lib/python3.7/dist-packages (from streamlit) (0.10.2)\n",
            "Requirement already satisfied: pydeck>=0.1.dev5 in /usr/local/lib/python3.7/dist-packages (from streamlit) (0.7.1)\n",
            "Requirement already satisfied: base58 in /usr/local/lib/python3.7/dist-packages (from streamlit) (2.1.1)\n",
            "Requirement already satisfied: requests in /usr/local/lib/python3.7/dist-packages (from streamlit) (2.23.0)\n",
            "Requirement already satisfied: pympler>=0.9 in /usr/local/lib/python3.7/dist-packages (from streamlit) (1.0.1)\n",
            "Requirement already satisfied: tzlocal in /usr/local/lib/python3.7/dist-packages (from streamlit) (1.5.1)\n",
            "Requirement already satisfied: click>=7.0 in /usr/local/lib/python3.7/dist-packages (from streamlit) (7.1.2)\n",
            "Requirement already satisfied: pyarrow in /usr/local/lib/python3.7/dist-packages (from streamlit) (3.0.0)\n",
            "Requirement already satisfied: tornado>=5.0 in /usr/local/lib/python3.7/dist-packages (from streamlit) (5.1.1)\n",
            "Requirement already satisfied: packaging in /usr/local/lib/python3.7/dist-packages (from streamlit) (21.3)\n",
            "Requirement already satisfied: gitpython!=3.1.19 in /usr/local/lib/python3.7/dist-packages (from streamlit) (3.1.26)\n",
            "Requirement already satisfied: protobuf!=3.11,>=3.6.0 in /usr/local/lib/python3.7/dist-packages (from streamlit) (3.17.3)\n",
            "Requirement already satisfied: validators in /usr/local/lib/python3.7/dist-packages (from streamlit) (0.18.2)\n",
            "Requirement already satisfied: pandas>=0.21.0 in /usr/local/lib/python3.7/dist-packages (from streamlit) (1.1.5)\n",
            "Requirement already satisfied: astor in /usr/local/lib/python3.7/dist-packages (from streamlit) (0.8.1)\n",
            "Requirement already satisfied: typing-extensions in /usr/local/lib/python3.7/dist-packages (from streamlit) (3.10.0.2)\n",
            "Requirement already satisfied: python-dateutil in /usr/local/lib/python3.7/dist-packages (from streamlit) (2.8.2)\n",
            "Requirement already satisfied: attrs in /usr/local/lib/python3.7/dist-packages (from streamlit) (21.4.0)\n",
            "Requirement already satisfied: watchdog in /usr/local/lib/python3.7/dist-packages (from streamlit) (2.1.6)\n",
            "Requirement already satisfied: numpy in /usr/local/lib/python3.7/dist-packages (from streamlit) (1.19.5)\n",
            "Requirement already satisfied: altair>=3.2.0 in /usr/local/lib/python3.7/dist-packages (from streamlit) (4.2.0)\n",
            "Requirement already satisfied: jsonschema>=3.0 in /usr/local/lib/python3.7/dist-packages (from altair>=3.2.0->streamlit) (4.3.3)\n",
            "Requirement already satisfied: entrypoints in /usr/local/lib/python3.7/dist-packages (from altair>=3.2.0->streamlit) (0.3)\n",
            "Requirement already satisfied: toolz in /usr/local/lib/python3.7/dist-packages (from altair>=3.2.0->streamlit) (0.11.2)\n",
            "Requirement already satisfied: jinja2 in /usr/local/lib/python3.7/dist-packages (from altair>=3.2.0->streamlit) (2.11.3)\n",
            "Requirement already satisfied: gitdb<5,>=4.0.1 in /usr/local/lib/python3.7/dist-packages (from gitpython!=3.1.19->streamlit) (4.0.9)\n",
            "Requirement already satisfied: smmap<6,>=3.0.1 in /usr/local/lib/python3.7/dist-packages (from gitdb<5,>=4.0.1->gitpython!=3.1.19->streamlit) (5.0.0)\n",
            "Requirement already satisfied: importlib-metadata in /usr/local/lib/python3.7/dist-packages (from jsonschema>=3.0->altair>=3.2.0->streamlit) (4.10.0)\n",
            "Requirement already satisfied: pyrsistent!=0.17.0,!=0.17.1,!=0.17.2,>=0.14.0 in /usr/local/lib/python3.7/dist-packages (from jsonschema>=3.0->altair>=3.2.0->streamlit) (0.18.0)\n",
            "Requirement already satisfied: importlib-resources>=1.4.0 in /usr/local/lib/python3.7/dist-packages (from jsonschema>=3.0->altair>=3.2.0->streamlit) (5.4.0)\n",
            "Requirement already satisfied: zipp>=3.1.0 in /usr/local/lib/python3.7/dist-packages (from importlib-resources>=1.4.0->jsonschema>=3.0->altair>=3.2.0->streamlit) (3.7.0)\n",
            "Requirement already satisfied: pytz>=2017.2 in /usr/local/lib/python3.7/dist-packages (from pandas>=0.21.0->streamlit) (2018.9)\n",
            "Requirement already satisfied: six>=1.9 in /usr/local/lib/python3.7/dist-packages (from protobuf!=3.11,>=3.6.0->streamlit) (1.15.0)\n",
            "Requirement already satisfied: ipykernel>=5.1.2 in /usr/local/lib/python3.7/dist-packages (from pydeck>=0.1.dev5->streamlit) (6.7.0)\n",
            "Requirement already satisfied: ipywidgets>=7.0.0 in /usr/local/lib/python3.7/dist-packages (from pydeck>=0.1.dev5->streamlit) (7.6.5)\n",
            "Requirement already satisfied: traitlets>=4.3.2 in /usr/local/lib/python3.7/dist-packages (from pydeck>=0.1.dev5->streamlit) (5.1.1)\n",
            "Requirement already satisfied: nest-asyncio in /usr/local/lib/python3.7/dist-packages (from ipykernel>=5.1.2->pydeck>=0.1.dev5->streamlit) (1.5.4)\n",
            "Requirement already satisfied: debugpy<2.0,>=1.0.0 in /usr/local/lib/python3.7/dist-packages (from ipykernel>=5.1.2->pydeck>=0.1.dev5->streamlit) (1.0.0)\n",
            "Requirement already satisfied: jupyter-client<8.0 in /usr/local/lib/python3.7/dist-packages (from ipykernel>=5.1.2->pydeck>=0.1.dev5->streamlit) (5.3.5)\n",
            "Requirement already satisfied: ipython>=7.23.1 in /usr/local/lib/python3.7/dist-packages (from ipykernel>=5.1.2->pydeck>=0.1.dev5->streamlit) (7.31.0)\n",
            "Requirement already satisfied: matplotlib-inline<0.2.0,>=0.1.0 in /usr/local/lib/python3.7/dist-packages (from ipykernel>=5.1.2->pydeck>=0.1.dev5->streamlit) (0.1.3)\n",
            "Requirement already satisfied: pexpect>4.3 in /usr/local/lib/python3.7/dist-packages (from ipython>=7.23.1->ipykernel>=5.1.2->pydeck>=0.1.dev5->streamlit) (4.8.0)\n",
            "Requirement already satisfied: setuptools>=18.5 in /usr/local/lib/python3.7/dist-packages (from ipython>=7.23.1->ipykernel>=5.1.2->pydeck>=0.1.dev5->streamlit) (57.4.0)\n",
            "Requirement already satisfied: decorator in /usr/local/lib/python3.7/dist-packages (from ipython>=7.23.1->ipykernel>=5.1.2->pydeck>=0.1.dev5->streamlit) (4.4.2)\n",
            "Requirement already satisfied: pickleshare in /usr/local/lib/python3.7/dist-packages (from ipython>=7.23.1->ipykernel>=5.1.2->pydeck>=0.1.dev5->streamlit) (0.7.5)\n",
            "Requirement already satisfied: jedi>=0.16 in /usr/local/lib/python3.7/dist-packages (from ipython>=7.23.1->ipykernel>=5.1.2->pydeck>=0.1.dev5->streamlit) (0.18.1)\n",
            "Requirement already satisfied: backcall in /usr/local/lib/python3.7/dist-packages (from ipython>=7.23.1->ipykernel>=5.1.2->pydeck>=0.1.dev5->streamlit) (0.2.0)\n",
            "Requirement already satisfied: pygments in /usr/local/lib/python3.7/dist-packages (from ipython>=7.23.1->ipykernel>=5.1.2->pydeck>=0.1.dev5->streamlit) (2.6.1)\n",
            "Requirement already satisfied: prompt-toolkit!=3.0.0,!=3.0.1,<3.1.0,>=2.0.0 in /usr/local/lib/python3.7/dist-packages (from ipython>=7.23.1->ipykernel>=5.1.2->pydeck>=0.1.dev5->streamlit) (3.0.24)\n",
            "Requirement already satisfied: jupyterlab-widgets>=1.0.0 in /usr/local/lib/python3.7/dist-packages (from ipywidgets>=7.0.0->pydeck>=0.1.dev5->streamlit) (1.0.2)\n",
            "Requirement already satisfied: widgetsnbextension~=3.5.0 in /usr/local/lib/python3.7/dist-packages (from ipywidgets>=7.0.0->pydeck>=0.1.dev5->streamlit) (3.5.2)\n",
            "Requirement already satisfied: ipython-genutils~=0.2.0 in /usr/local/lib/python3.7/dist-packages (from ipywidgets>=7.0.0->pydeck>=0.1.dev5->streamlit) (0.2.0)\n",
            "Requirement already satisfied: nbformat>=4.2.0 in /usr/local/lib/python3.7/dist-packages (from ipywidgets>=7.0.0->pydeck>=0.1.dev5->streamlit) (5.1.3)\n",
            "Requirement already satisfied: parso<0.9.0,>=0.8.0 in /usr/local/lib/python3.7/dist-packages (from jedi>=0.16->ipython>=7.23.1->ipykernel>=5.1.2->pydeck>=0.1.dev5->streamlit) (0.8.3)\n",
            "Requirement already satisfied: MarkupSafe>=0.23 in /usr/local/lib/python3.7/dist-packages (from jinja2->altair>=3.2.0->streamlit) (2.0.1)\n",
            "Requirement already satisfied: jupyter-core>=4.6.0 in /usr/local/lib/python3.7/dist-packages (from jupyter-client<8.0->ipykernel>=5.1.2->pydeck>=0.1.dev5->streamlit) (4.9.1)\n",
            "Requirement already satisfied: pyzmq>=13 in /usr/local/lib/python3.7/dist-packages (from jupyter-client<8.0->ipykernel>=5.1.2->pydeck>=0.1.dev5->streamlit) (22.3.0)\n",
            "Requirement already satisfied: ptyprocess>=0.5 in /usr/local/lib/python3.7/dist-packages (from pexpect>4.3->ipython>=7.23.1->ipykernel>=5.1.2->pydeck>=0.1.dev5->streamlit) (0.7.0)\n",
            "Requirement already satisfied: wcwidth in /usr/local/lib/python3.7/dist-packages (from prompt-toolkit!=3.0.0,!=3.0.1,<3.1.0,>=2.0.0->ipython>=7.23.1->ipykernel>=5.1.2->pydeck>=0.1.dev5->streamlit) (0.2.5)\n",
            "Requirement already satisfied: notebook>=4.4.1 in /usr/local/lib/python3.7/dist-packages (from widgetsnbextension~=3.5.0->ipywidgets>=7.0.0->pydeck>=0.1.dev5->streamlit) (5.3.1)\n",
            "Requirement already satisfied: terminado>=0.8.1 in /usr/local/lib/python3.7/dist-packages (from notebook>=4.4.1->widgetsnbextension~=3.5.0->ipywidgets>=7.0.0->pydeck>=0.1.dev5->streamlit) (0.12.1)\n",
            "Requirement already satisfied: Send2Trash in /usr/local/lib/python3.7/dist-packages (from notebook>=4.4.1->widgetsnbextension~=3.5.0->ipywidgets>=7.0.0->pydeck>=0.1.dev5->streamlit) (1.8.0)\n",
            "Requirement already satisfied: nbconvert in /usr/local/lib/python3.7/dist-packages (from notebook>=4.4.1->widgetsnbextension~=3.5.0->ipywidgets>=7.0.0->pydeck>=0.1.dev5->streamlit) (5.6.1)\n",
            "Requirement already satisfied: mistune<2,>=0.8.1 in /usr/local/lib/python3.7/dist-packages (from nbconvert->notebook>=4.4.1->widgetsnbextension~=3.5.0->ipywidgets>=7.0.0->pydeck>=0.1.dev5->streamlit) (0.8.4)\n",
            "Requirement already satisfied: testpath in /usr/local/lib/python3.7/dist-packages (from nbconvert->notebook>=4.4.1->widgetsnbextension~=3.5.0->ipywidgets>=7.0.0->pydeck>=0.1.dev5->streamlit) (0.5.0)\n",
            "Requirement already satisfied: pandocfilters>=1.4.1 in /usr/local/lib/python3.7/dist-packages (from nbconvert->notebook>=4.4.1->widgetsnbextension~=3.5.0->ipywidgets>=7.0.0->pydeck>=0.1.dev5->streamlit) (1.5.0)\n",
            "Requirement already satisfied: defusedxml in /usr/local/lib/python3.7/dist-packages (from nbconvert->notebook>=4.4.1->widgetsnbextension~=3.5.0->ipywidgets>=7.0.0->pydeck>=0.1.dev5->streamlit) (0.7.1)\n",
            "Requirement already satisfied: bleach in /usr/local/lib/python3.7/dist-packages (from nbconvert->notebook>=4.4.1->widgetsnbextension~=3.5.0->ipywidgets>=7.0.0->pydeck>=0.1.dev5->streamlit) (4.1.0)\n",
            "Requirement already satisfied: webencodings in /usr/local/lib/python3.7/dist-packages (from bleach->nbconvert->notebook>=4.4.1->widgetsnbextension~=3.5.0->ipywidgets>=7.0.0->pydeck>=0.1.dev5->streamlit) (0.5.1)\n",
            "Requirement already satisfied: pyparsing!=3.0.5,>=2.0.2 in /usr/local/lib/python3.7/dist-packages (from packaging->streamlit) (3.0.6)\n",
            "Requirement already satisfied: idna<3,>=2.5 in /usr/local/lib/python3.7/dist-packages (from requests->streamlit) (2.10)\n",
            "Requirement already satisfied: urllib3!=1.25.0,!=1.25.1,<1.26,>=1.21.1 in /usr/local/lib/python3.7/dist-packages (from requests->streamlit) (1.24.3)\n",
            "Requirement already satisfied: certifi>=2017.4.17 in /usr/local/lib/python3.7/dist-packages (from requests->streamlit) (2021.10.8)\n",
            "Requirement already satisfied: chardet<4,>=3.0.2 in /usr/local/lib/python3.7/dist-packages (from requests->streamlit) (3.0.4)\n"
          ]
        }
      ]
    },
    {
      "cell_type": "markdown",
      "metadata": {
        "id": "bxCa006hzPXY"
      },
      "source": [
        "Vamos a cargar una máquina virtual que tenga instalado Ngrok"
      ]
    },
    {
      "cell_type": "code",
      "metadata": {
        "id": "jnxnyxERpJon",
        "colab": {
          "base_uri": "https://localhost:8080/"
        },
        "outputId": "1cb54b3a-91e1-432f-94e9-d0647c990ad3"
      },
      "source": [
        "!wget https://bin.equinox.io/c/4VmDzA7iaHb/ngrok-stable-linux-amd64.zip"
      ],
      "execution_count": 2,
      "outputs": [
        {
          "output_type": "stream",
          "name": "stdout",
          "text": [
            "--2022-01-18 21:23:59--  https://bin.equinox.io/c/4VmDzA7iaHb/ngrok-stable-linux-amd64.zip\n",
            "Resolving bin.equinox.io (bin.equinox.io)... 52.202.168.65, 54.237.133.81, 18.205.222.128, ...\n",
            "Connecting to bin.equinox.io (bin.equinox.io)|52.202.168.65|:443... connected.\n",
            "HTTP request sent, awaiting response... 200 OK\n",
            "Length: 13832437 (13M) [application/octet-stream]\n",
            "Saving to: ‘ngrok-stable-linux-amd64.zip’\n",
            "\n",
            "ngrok-stable-linux- 100%[===================>]  13.19M  55.9MB/s    in 0.2s    \n",
            "\n",
            "2022-01-18 21:24:00 (55.9 MB/s) - ‘ngrok-stable-linux-amd64.zip’ saved [13832437/13832437]\n",
            "\n"
          ]
        }
      ]
    },
    {
      "cell_type": "markdown",
      "metadata": {
        "id": "-m9tzbkAzVvX"
      },
      "source": [
        "Ahora cargaremos esta máquina virtual en nuestro archivo de Google Colab"
      ]
    },
    {
      "cell_type": "code",
      "metadata": {
        "id": "2Dm4E0N1pQQM",
        "colab": {
          "base_uri": "https://localhost:8080/"
        },
        "outputId": "fe02f110-9cb1-4030-8661-82cbe1f387cb"
      },
      "source": [
        "!unzip ngrok-stable-linux-amd64.zip"
      ],
      "execution_count": 3,
      "outputs": [
        {
          "output_type": "stream",
          "name": "stdout",
          "text": [
            "Archive:  ngrok-stable-linux-amd64.zip\n",
            "  inflating: ngrok                   \n"
          ]
        }
      ]
    },
    {
      "cell_type": "markdown",
      "metadata": {
        "id": "9reiQ37CzZ8s"
      },
      "source": [
        "Posteriormente le indicaremos a Ngrok que estará utilizando el puerto 8501 para visualizar nuestra aplicación"
      ]
    },
    {
      "cell_type": "code",
      "source": [
        "get_ipython().system_raw('./ngrok authtoken 1zTAzfH28kvEGC3EDGJQ0melI89_73eNeoLsNty1Xs2WAYUJh')"
      ],
      "metadata": {
        "colab": {
          "base_uri": "https://localhost:8080/"
        },
        "id": "zlOgc4vX8IsT",
        "outputId": "89d283f6-0bef-4b32-8905-95641913ff0f"
      },
      "execution_count": 4,
      "outputs": [
        {
          "output_type": "stream",
          "name": "stdout",
          "text": [
            "Authtoken saved to configuration file: /root/.ngrok2/ngrok.yml\n"
          ]
        }
      ]
    },
    {
      "cell_type": "code",
      "metadata": {
        "id": "hnmE2OM9pSUl"
      },
      "source": [
        "get_ipython().system_raw('./ngrok http 8501 &')"
      ],
      "execution_count": 5,
      "outputs": []
    },
    {
      "cell_type": "markdown",
      "metadata": {
        "id": "OP-ALK_Rzecf"
      },
      "source": [
        "Una vez inicializado el puerto, ahora vamos a crear el tunel para que pueda generarse un enlace que nos permita visualizar nuestra aplicación"
      ]
    },
    {
      "cell_type": "code",
      "metadata": {
        "id": "avVTr1XkpUdO",
        "colab": {
          "base_uri": "https://localhost:8080/"
        },
        "outputId": "7b97bbd6-5aa7-4ee1-f54a-1f299387b7d0"
      },
      "source": [
        "!curl -s http://localhost:4040/api/tunnels | python3 -c \\\n",
        "    'import sys, json; print(\"Execute the next cell and the go to the following URL: \" +json.load(sys.stdin)[\"tunnels\"][0][\"public_url\"])'"
      ],
      "execution_count": 6,
      "outputs": [
        {
          "output_type": "stream",
          "name": "stdout",
          "text": [
            "Execute the next cell and the go to the following URL: http://bd72-34-86-161-73.ngrok.io\n"
          ]
        }
      ]
    },
    {
      "cell_type": "markdown",
      "metadata": {
        "id": "oIBikGsBzmJ_"
      },
      "source": [
        "Una vez que ejecutaron la instrucción anterior, verán que aparece un URL que es el que vamos a dar clic para visualizar nuestra aplicación, pero primero tenemos que ejecutar nuestra aplicación"
      ]
    },
    {
      "cell_type": "code",
      "metadata": {
        "id": "V4roO9VQpYTM"
      },
      "source": [
        "%%writefile primero.py\n",
        "import streamlit as st\n",
        "\n",
        "st.write(\"\"\"\n",
        "# Simple Example Prediction App\n",
        "\n",
        "This app predicts my data!\n",
        "\n",
        "\"\"\")"
      ],
      "execution_count": null,
      "outputs": []
    },
    {
      "cell_type": "markdown",
      "metadata": {
        "id": "86RJy0SazrAb"
      },
      "source": [
        "Una vez cargado y ejecutado el archivo ahora vamos a proceder a ejecutarlo con el comando streamlit para que se visualice el contenido del mismo."
      ]
    },
    {
      "cell_type": "code",
      "metadata": {
        "id": "n4F8bKfApbg7"
      },
      "source": [
        "!streamlit run /content/primero.py"
      ],
      "execution_count": null,
      "outputs": []
    },
    {
      "cell_type": "markdown",
      "metadata": {
        "id": "zBjKM8nueb2b"
      },
      "source": [
        "**TEMA 2**"
      ]
    },
    {
      "cell_type": "markdown",
      "metadata": {
        "id": "7XiTfsUzeeqa"
      },
      "source": [
        "Instalación de la librería streamlit"
      ]
    },
    {
      "cell_type": "code",
      "metadata": {
        "id": "d_rs6zj0emSd"
      },
      "source": [
        "!pip install streamlit"
      ],
      "execution_count": null,
      "outputs": []
    },
    {
      "cell_type": "markdown",
      "metadata": {
        "id": "Ayu7agKJepHS"
      },
      "source": [
        "Vamos a cargar una máquina virtual que tenga instalado Ngrok"
      ]
    },
    {
      "cell_type": "code",
      "metadata": {
        "id": "7q75iEO4esbN"
      },
      "source": [
        "!wget https://bin.equinox.io/c/4VmDzA7iaHb/ngrok-stable-linux-amd64.zip"
      ],
      "execution_count": null,
      "outputs": []
    },
    {
      "cell_type": "markdown",
      "metadata": {
        "id": "XYtxhuDGey_p"
      },
      "source": [
        "Ahora cargaremos esta máquina virtual en nuestro archivo de Google Colab"
      ]
    },
    {
      "cell_type": "code",
      "metadata": {
        "id": "xmflJkuqezyN"
      },
      "source": [
        "!unzip ngrok-stable-linux-amd64.zip"
      ],
      "execution_count": null,
      "outputs": []
    },
    {
      "cell_type": "markdown",
      "metadata": {
        "id": "BPYfCgdie3qn"
      },
      "source": [
        "Posteriormente le indicaremos a Ngrok que estará utilizando el puerto 8501 para visualizar nuestra aplicación"
      ]
    },
    {
      "cell_type": "code",
      "metadata": {
        "id": "Y369lh1ne8c3"
      },
      "source": [
        "get_ipython().system_raw('./ngrok http 8501 &')"
      ],
      "execution_count": null,
      "outputs": []
    },
    {
      "cell_type": "markdown",
      "metadata": {
        "id": "sSAwzJMje_nZ"
      },
      "source": [
        "Una vez inicializado el puerto, ahora vamos a crear el tunel para que pueda generarse un enlace que nos permita visualizar nuestra aplicación"
      ]
    },
    {
      "cell_type": "code",
      "metadata": {
        "id": "9YAaMb4JfEvE"
      },
      "source": [
        "!curl -s http://localhost:4040/api/tunnels | python3 -c \\\n",
        "    'import sys, json; print(\"Execute the next cell and the go to the following URL: \" +json.load(sys.stdin)[\"tunnels\"][0][\"public_url\"])'"
      ],
      "execution_count": null,
      "outputs": []
    },
    {
      "cell_type": "markdown",
      "metadata": {
        "id": "VL95KORBfKH4"
      },
      "source": [
        "Una vez que ejecutaron la instrucción anterior, verán que aparece un URL que es el que vamos a dar clic para visualizar nuestra aplicación, pero primero tenemos que ejecutar nuestra aplicación"
      ]
    },
    {
      "cell_type": "code",
      "metadata": {
        "id": "X0G7sSEdfOB5"
      },
      "source": [
        "%%writefile segundo.py\n",
        "import streamlit as st\n",
        "\n",
        "# Crear el título para la aplicación web\n",
        "st.title(\"Mi Primera App con Streamlit\")\n",
        "sidebar = st.sidebar\n",
        "sidebar.title(\"Esta es la barra lateral.\")\n",
        "sidebar.write(\"Aquí van los elementos de entrada.\")\n",
        "\n",
        "\n",
        "st.header(\"Información sobre el Conjunto de Datos\")\n",
        "\n",
        "st.header(\"Descripción de los datos \")\n",
        "\n",
        "st.write(\"\"\"\n",
        "Este es un simple ejemplo de una app para predecir\n",
        "\n",
        "¡Esta app predice mis datos!\n",
        "\n",
        "\"\"\")"
      ],
      "execution_count": null,
      "outputs": []
    },
    {
      "cell_type": "markdown",
      "metadata": {
        "id": "95mqsUJyfOya"
      },
      "source": [
        "Una vez cargado y ejecutado el archivo ahora vamos a proceder a ejecutarlo con el comando streamlit para que se visualice el contenido del mismo."
      ]
    },
    {
      "cell_type": "code",
      "metadata": {
        "id": "cji2vdZRfSem"
      },
      "source": [
        "!streamlit run /content/segundo.py"
      ],
      "execution_count": null,
      "outputs": []
    },
    {
      "cell_type": "markdown",
      "metadata": {
        "id": "bVzq39XXfnVu"
      },
      "source": [
        "**TEMA 3**"
      ]
    },
    {
      "cell_type": "markdown",
      "metadata": {
        "id": "SlFRTNzufpY2"
      },
      "source": [
        "Instalación de la librería streamlit\n"
      ]
    },
    {
      "cell_type": "code",
      "metadata": {
        "id": "LBgCTc59fuMz"
      },
      "source": [
        "!pip install streamlit"
      ],
      "execution_count": null,
      "outputs": []
    },
    {
      "cell_type": "markdown",
      "metadata": {
        "id": "Nu3z2N26fw-3"
      },
      "source": [
        "Vamos a cargar una máquina virtual que tenga instalado Ngrok"
      ]
    },
    {
      "cell_type": "code",
      "metadata": {
        "id": "fY41EgfSf09W"
      },
      "source": [
        "!wget https://bin.equinox.io/c/4VmDzA7iaHb/ngrok-stable-linux-amd64.zip"
      ],
      "execution_count": null,
      "outputs": []
    },
    {
      "cell_type": "markdown",
      "metadata": {
        "id": "1BLwcftugFx9"
      },
      "source": [
        "Ahora cargaremos esta máquina virtual en nuestro archivo de Google Colab"
      ]
    },
    {
      "cell_type": "code",
      "metadata": {
        "id": "sIVB22f8gJxh"
      },
      "source": [
        "!unzip ngrok-stable-linux-amd64.zip"
      ],
      "execution_count": null,
      "outputs": []
    },
    {
      "cell_type": "markdown",
      "metadata": {
        "id": "5mIcPOMcgNog"
      },
      "source": [
        "Posteriormente le indicaremos a Ngrok que estará utilizando el puerto 8501 para visualizar nuestra aplicación"
      ]
    },
    {
      "cell_type": "code",
      "metadata": {
        "id": "HIgtgs59gUSB"
      },
      "source": [
        "get_ipython().system_raw('./ngrok http 8501 &')"
      ],
      "execution_count": 21,
      "outputs": []
    },
    {
      "cell_type": "markdown",
      "metadata": {
        "id": "U-6Ybk71gZEC"
      },
      "source": [
        "Una vez inicializado el puerto, ahora vamos a crear el tunel para que pueda generarse un enlace que nos permita visualizar nuestra aplicación"
      ]
    },
    {
      "cell_type": "code",
      "metadata": {
        "id": "eEDpF_PpgeyN",
        "colab": {
          "base_uri": "https://localhost:8080/"
        },
        "outputId": "4f2478ba-0385-417a-cb0f-b87480e5b474"
      },
      "source": [
        "!curl -s http://localhost:4040/api/tunnels | python3 -c \\\n",
        "    'import sys, json; print(\"Execute the next cell and the go to the following URL: \" +json.load(sys.stdin)[\"tunnels\"][0][\"public_url\"])'"
      ],
      "execution_count": 22,
      "outputs": [
        {
          "output_type": "stream",
          "name": "stdout",
          "text": [
            "Execute the next cell and the go to the following URL: https://adf9-34-86-161-73.ngrok.io\n"
          ]
        }
      ]
    },
    {
      "cell_type": "markdown",
      "metadata": {
        "id": "J25iG3QMgjMU"
      },
      "source": [
        "Una vez que ejecutaron la instrucción anterior, verán que aparece un URL que es el que vamos a dar clic para visualizar nuestra aplicación, pero primero tenemos que ejecutar nuestra aplicación"
      ]
    },
    {
      "cell_type": "code",
      "metadata": {
        "id": "XnQQjssKgwcc",
        "colab": {
          "base_uri": "https://localhost:8080/"
        },
        "outputId": "8fc8489b-077a-46dc-8ad4-33e9ce5cefd4"
      },
      "source": [
        "%%writefile tercero.py\n",
        "import pandas as pd\n",
        "import streamlit as st\n",
        "\n",
        "titanic_link = 'https://raw.githubusercontent.com/mwaskom/seaborn-data/master/titanic.csv'\n",
        "\n",
        "titanic_data = pd.read_csv(titanic_link)\n",
        "\n",
        "# Create the title for the web app\n",
        "st.title(\"My First Streamlit App\")\n",
        "sidebar = st.sidebar\n",
        "sidebar.title(\"This is the sidebar.\")\n",
        "sidebar.write(\"You can add any elements to the sidebar.\")\n",
        "\n",
        "# Display the content of the dataset\n",
        "st.header(\"Dataset Overview\")\n",
        "st.dataframe(titanic_data)\n",
        "\n",
        "st.header(\"Data Description\")\n",
        "\n",
        "st.markdown(\"___\")\n",
        "\n",
        "# Select the gender and the display the dataset with this selection\n",
        "selected_sex = st.selectbox(\"Select Sex\", titanic_data['sex'].unique())\n",
        "st.write(f\"Selected Option: {selected_sex!r}\")\n",
        "\n",
        "st.write(titanic_data.query(f\"\"\"sex==@selected_sex\"\"\"))\n",
        "\n",
        "st.markdown(\"___\")\n",
        "\n",
        "# Select the embark town of the passanger and then display the dataset with this selection\n",
        "selected_town = st.radio(\"Select Embark Town\", titanic_data['embark_town'].unique())\n",
        "st.write(\"Selected Embark Town:\", selected_town)\n",
        "\n",
        "st.write(titanic_data.query(f\"\"\"embark_town==@selected_town\"\"\"))\n",
        "\n",
        "st.markdown(\"___\")\n",
        "\n",
        "# Select a range of the fare and then display the dataset with this selection\n",
        "optionals = st.expander(\"Optional Configurations\", True)\n",
        "fare_min = optionals.slider(\n",
        "    \"Minimum Fare\",\n",
        "    min_value=float(titanic_data['fare'].min()),\n",
        "    max_value=float(titanic_data['fare'].max())\n",
        ")\n",
        "fare_max = optionals.slider(\n",
        "    \"Maximum Fare\",\n",
        "    min_value=float(titanic_data['fare'].min()),\n",
        "    max_value=float(titanic_data['fare'].max())\n",
        ")\n",
        "subset_fare = titanic_data[(titanic_data['fare'] >= fare_min) & (titanic_data['fare'] <= fare_max  )]\n",
        "st.write(f\"Number of Records With Fare Between {fare_min} and {fare_max}: {subset_fare.shape[0]}\")\n",
        "\n",
        "# Display of the dataset whith the min, max fare selected\n",
        "st.write(subset_fare)\n"
      ],
      "execution_count": 23,
      "outputs": [
        {
          "output_type": "stream",
          "name": "stdout",
          "text": [
            "Overwriting tercero.py\n"
          ]
        }
      ]
    },
    {
      "cell_type": "markdown",
      "metadata": {
        "id": "QAvnzUfggwxV"
      },
      "source": [
        "Una vez cargado y ejecutado el archivo ahora vamos a proceder a ejecutarlo con el comando streamlit para que se visualice el contenido del mismo."
      ]
    },
    {
      "cell_type": "code",
      "metadata": {
        "id": "MDO97_Edg1J4",
        "colab": {
          "base_uri": "https://localhost:8080/"
        },
        "outputId": "e35e3b9e-3937-404d-937f-86a11834d986"
      },
      "source": [
        "!streamlit run /content/tercero.py"
      ],
      "execution_count": 24,
      "outputs": [
        {
          "output_type": "stream",
          "name": "stdout",
          "text": [
            "\u001b[0m\n",
            "\u001b[34m\u001b[1m  You can now view your Streamlit app in your browser.\u001b[0m\n",
            "\u001b[0m\n",
            "\u001b[34m  Network URL: \u001b[0m\u001b[1mhttp://172.28.0.2:8501\u001b[0m\n",
            "\u001b[34m  External URL: \u001b[0m\u001b[1mhttp://34.86.161.73:8501\u001b[0m\n",
            "\u001b[0m\n",
            "2022-01-18 21:47:33.994 NumExpr defaulting to 2 threads.\n",
            "\u001b[34m  Stopping...\u001b[0m\n",
            "\u001b[34m  Stopping...\u001b[0m\n"
          ]
        }
      ]
    },
    {
      "cell_type": "markdown",
      "metadata": {
        "id": "9LHOb35RhQ_X"
      },
      "source": [
        "**TEMA 4**"
      ]
    },
    {
      "cell_type": "markdown",
      "metadata": {
        "id": "JB5eYpenhUET"
      },
      "source": [
        "Instalación de la librería streamlit"
      ]
    },
    {
      "cell_type": "code",
      "metadata": {
        "id": "h3gZ7p0rhXPc"
      },
      "source": [
        "!pip install streamlit"
      ],
      "execution_count": null,
      "outputs": []
    },
    {
      "cell_type": "markdown",
      "metadata": {
        "id": "yVe1fMJ3hfpm"
      },
      "source": [
        "Vamos a cargar una máquina virtual que tenga instalado Ngrok"
      ]
    },
    {
      "cell_type": "code",
      "metadata": {
        "id": "IGlliVtjhgUA"
      },
      "source": [
        "!wget https://bin.equinox.io/c/4VmDzA7iaHb/ngrok-stable-linux-amd64.zip"
      ],
      "execution_count": null,
      "outputs": []
    },
    {
      "cell_type": "markdown",
      "metadata": {
        "id": "6AMmrTg1hjl4"
      },
      "source": [
        "Ahora cargaremos esta máquina virtual en nuestro archivo de Google Colab"
      ]
    },
    {
      "cell_type": "code",
      "metadata": {
        "id": "O08ts-aYhnPI"
      },
      "source": [
        "!unzip ngrok-stable-linux-amd64.zip"
      ],
      "execution_count": null,
      "outputs": []
    },
    {
      "cell_type": "markdown",
      "metadata": {
        "id": "U1VGVzjKhqeH"
      },
      "source": [
        "Posteriormente le indicaremos a Ngrok que estará utilizando el puerto 8501 para visualizar nuestra aplicación"
      ]
    },
    {
      "cell_type": "code",
      "metadata": {
        "id": "DsOEjrMjhuDw"
      },
      "source": [
        "get_ipython().system_raw('./ngrok http 8501 &')"
      ],
      "execution_count": 29,
      "outputs": []
    },
    {
      "cell_type": "markdown",
      "metadata": {
        "id": "AchTSi54hzei"
      },
      "source": [
        "Una vez inicializado el puerto, ahora vamos a crear el tunel para que pueda generarse un enlace que nos permita visualizar nuestra aplicación"
      ]
    },
    {
      "cell_type": "code",
      "metadata": {
        "id": "EG9JkzTDh3Rq",
        "colab": {
          "base_uri": "https://localhost:8080/"
        },
        "outputId": "f11dfcd7-9356-4d8e-dbf6-70d368671053"
      },
      "source": [
        "!curl -s http://localhost:4040/api/tunnels | python3 -c \\\n",
        "    'import sys, json; print(\"Execute the next cell and the go to the following URL: \" +json.load(sys.stdin)[\"tunnels\"][0][\"public_url\"])'"
      ],
      "execution_count": 30,
      "outputs": [
        {
          "output_type": "stream",
          "name": "stdout",
          "text": [
            "Execute the next cell and the go to the following URL: http://15a9-34-86-161-73.ngrok.io\n"
          ]
        }
      ]
    },
    {
      "cell_type": "markdown",
      "metadata": {
        "id": "tBhdgXQQh7Z5"
      },
      "source": [
        "Una vez que ejecutaron la instrucción anterior, verán que aparece un URL que es el que vamos a dar clic para visualizar nuestra aplicación, pero primero tenemos que ejecutar nuestra aplicación"
      ]
    },
    {
      "cell_type": "code",
      "metadata": {
        "id": "wZMvaCZah_3U",
        "colab": {
          "base_uri": "https://localhost:8080/"
        },
        "outputId": "595dedd8-4e53-495f-9fbd-e89ca7dfc25b"
      },
      "source": [
        "%%writefile mi_app.py\n",
        "import pandas as pd\n",
        "import matplotlib.pyplot as plt\n",
        "import streamlit as st\n",
        "\n",
        "titanic_link = 'https://raw.githubusercontent.com/mwaskom/seaborn-data/master/titanic.csv'\n",
        "\n",
        "titanic_data = pd.read_csv(titanic_link)\n",
        "\n",
        "fig, ax = plt.subplots()\n",
        "\n",
        "ax.hist(titanic_data.fare)\n",
        "\n",
        "st.header(\"Histograma del Titanic\")\n",
        "\n",
        "st.pyplot(fig)\n",
        "\n",
        "st.markdown(\"___\")\n",
        "\n",
        "fig2, ax2 = plt.subplots()\n",
        "\n",
        "y_pos = titanic_data['class']\n",
        "x_pos = titanic_data['fare']\n",
        "\n",
        "ax2.barh(y_pos, x_pos)\n",
        "ax2.set_ylabel(\"Class\")\n",
        "ax2.set_xlabel(\"Fare\")\n",
        "ax2.set_title('¿Cuanto pagaron las clases del Titanic')\n",
        "\n",
        "st.header(\"Grafica de Barras del Titanic\")\n",
        "\n",
        "st.pyplot(fig2)\n",
        "\n",
        "st.markdown(\"___\")\n",
        "\n",
        "fig3, ax3 = plt.subplots()\n",
        "\n",
        "ax3.scatter(titanic_data.age, titanic_data.fare)\n",
        "ax3.set_xlabel(\"Edad\")\n",
        "ax3.set_ylabel(\"Tarifa\")\n",
        "\n",
        "st.header(\"Grafica de Dispersión del Titanic\")\n",
        "\n",
        "st.pyplot(fig3)"
      ],
      "execution_count": 31,
      "outputs": [
        {
          "output_type": "stream",
          "name": "stdout",
          "text": [
            "Overwriting mi_app.py\n"
          ]
        }
      ]
    },
    {
      "cell_type": "markdown",
      "metadata": {
        "id": "7LKjwECciHpX"
      },
      "source": [
        "Una vez cargado y ejecutado el archivo ahora vamos a proceder a ejecutarlo con el comando streamlit para que se visualice el contenido del mismo."
      ]
    },
    {
      "cell_type": "code",
      "metadata": {
        "id": "w6tKwtcpiMhb",
        "colab": {
          "base_uri": "https://localhost:8080/"
        },
        "outputId": "b4b248f2-b2b0-4414-dbd7-cda4e68f142a"
      },
      "source": [
        "!streamlit run /content/mi_app.py"
      ],
      "execution_count": null,
      "outputs": [
        {
          "output_type": "stream",
          "name": "stdout",
          "text": [
            "\u001b[0m\n",
            "\u001b[34m\u001b[1m  You can now view your Streamlit app in your browser.\u001b[0m\n",
            "\u001b[0m\n",
            "\u001b[34m  Network URL: \u001b[0m\u001b[1mhttp://172.28.0.2:8501\u001b[0m\n",
            "\u001b[34m  External URL: \u001b[0m\u001b[1mhttp://34.86.161.73:8501\u001b[0m\n",
            "\u001b[0m\n"
          ]
        }
      ]
    }
  ]
}